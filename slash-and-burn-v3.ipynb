{
 "cells": [
  {
   "cell_type": "markdown",
   "metadata": {},
   "source": [
    "# Modeling Slash-and-burn Agriculture in Colonial Brazil\n",
    "\n",
    "*Leonardo Barleta, Evan Yong-Seok Kim, Isabela Barros David Rodrigues*<br>\n",
    "Center for Spatial and Textual Analysis (CESTA), Stanford University"
   ]
  },
  {
   "cell_type": "markdown",
   "metadata": {},
   "source": [
    "This notebook uses agent-based modeling to simulate slash-and-burn agriculture in São Paulo, Brazil, from the late 16th to the 18th centuries. Slash-and-burn agriculture -- also known as itinerant, shifiting, swidden, or (in Brazil) *coivara* and *roça de toco* -- is a method of farming in which farmers burn tracts of forest to clear and fertilize the terrain. Because the fertility of the soil lasts only a few seasons, farmers have to move periodically in search of new areas with lush vegetation, creating a cycle of mobility and deforestation. This simulation serves to examine the adoption of slash-and-burn techniques by Portuguese colonists, assessing the scale of environmental impact produced by the colonization and the patterns of geographic mobility created by this technique."
   ]
  },
  {
   "cell_type": "markdown",
   "metadata": {},
   "source": [
    "Current version: 3.0.0 (29/10/2019)\n",
    "\n",
    "Previous milestones:\n",
    "\n",
    "- Oct 2019 - Code refactored and first results were generated for analysis\n",
    "- Summer 2019 - Python+Jupyter notebook completely revamped by Evan, generating version 3\n",
    "- Spring 2019 - Version 2.x adapted previous model to Python+Jupyter \n",
    "- Winter 2019 - Version 1.x was creasted by Bela and Leo using NetLogo  "
   ]
  },
  {
   "cell_type": "markdown",
   "metadata": {},
   "source": [
    "# Setup"
   ]
  },
  {
   "cell_type": "code",
   "execution_count": 1,
   "metadata": {},
   "outputs": [],
   "source": [
    "#Libraries\n",
    "from tqdm import tqdm_notebook, tnrange\n",
    "from PIL import Image, ImageDraw, ImageFont\n",
    "from matplotlib import pyplot as plt\n",
    "import numpy as np\n",
    "import pandas as pd\n",
    "import random, imageio, os, datetime, math, sys, pickle"
   ]
  },
  {
   "cell_type": "code",
   "execution_count": 2,
   "metadata": {},
   "outputs": [],
   "source": [
    "# PARAMETERS OF THE SIMULATION\n",
    "\n",
    "# name of the simulation\n",
    "NAME = 'testing'\n",
    "\n",
    "# initial number of households\n",
    "HOUSEHOLDS = 240\n",
    "\n",
    "# annual rate of population growth\n",
    "POP_GROWTH = 2.6 #.5%/year -- rate of growth\n",
    "\n",
    "# number of years  that one can cultivate a plot of land\n",
    "FARMING_PERIOD = 4\n",
    "\n",
    "# number of years that a plot of land needs to recycle\n",
    "RECYCLING_PERIOD = 30\n",
    "\n",
    "# initial and end year\n",
    "INITIAL_YEAR = 1690\n",
    "END_YEAR = 1798\n",
    "\n",
    "# search radius\n",
    "MAX_DISTANCE = 30\n",
    "\n",
    "# percentage of unavailable land\n",
    "UNAVAILABLE_PCT = 0.5\n",
    "\n",
    "# initial town (Y,X)\n",
    "INITIAL_TOWN = (550, 585)"
   ]
  },
  {
   "cell_type": "code",
   "execution_count": 3,
   "metadata": {},
   "outputs": [],
   "source": [
    "# Plots\n",
    "available = 1 #green\n",
    "unusable = 2 #black\n",
    "use = 3 #redish orange\n",
    "recycling = 4 #brown\n",
    "urban = 5 # yellow\n",
    "unavailable = 6 #grey\n",
    "\n",
    "colors = {\n",
    "    available: (236, 255, 179),\n",
    "    unusable: (50,50,50),\n",
    "    use: (255,110,50),\n",
    "    recycling: (125,90,30),\n",
    "    urban: (255,255,0),\n",
    "    unavailable: (100,100,100),\n",
    "}\n",
    "\n",
    "# other variables\n",
    "pop_increment = 0.0\n",
    "new_hometown = False"
   ]
  },
  {
   "cell_type": "markdown",
   "metadata": {},
   "source": [
    "# Functions"
   ]
  },
  {
   "cell_type": "code",
   "execution_count": 93,
   "metadata": {},
   "outputs": [],
   "source": [
    "def setup():\n",
    "    global status, countdown, occupant, agents, towns, mydir, report, simulation\n",
    "    \n",
    "    ### ENVIRONMENT ###\n",
    "    simulation = NAME +'_'+ datetime.datetime.now().strftime('%Y-%m-%d_%H-%M')\n",
    "    mydir = os.path.join(os.getcwd(), 'simulations', simulation)\n",
    "    os.makedirs(mydir)\n",
    "    \n",
    "    report = pd.DataFrame(columns=['year', 'population', 'towns', 'using', 'recycling', 'max_distance'])\n",
    "    \n",
    "    ### SETTING UP SPACE ###\n",
    "    \n",
    "    # loading basemap\n",
    "    backland = Image.open(\"available_land2.jpg\").convert('RGB')\n",
    "    backland_matrix = np.array(backland)\n",
    "    n,m = backland.size #n - width, m - height, use m for rows, n for columns\n",
    "        \n",
    "    # creating basic matrices\n",
    "    status = np.zeros((m,n), dtype=np.int16) # \n",
    "    countdown = np.negative(np.ones((m,n), dtype=np.int16)) #starts from 4, then counts down\n",
    "    occupant = np.negative(np.ones((m,n), dtype=np.int16)) #starts from 4, then counts down\n",
    "    #occupant = np.zeros((m,n), dtype=np.int16) #has ID\n",
    "    \n",
    "    # TODO: replace for progress_apply\n",
    "    for j in tnrange(m, desc='setting up plots'):\n",
    "        for k in range(0, n):\n",
    "            if backland_matrix[j][k][0] == 0:\n",
    "                status[j][k] = unusable    \n",
    "            else:\n",
    "                status[j][k] = available\n",
    "   \n",
    "    \n",
    "    \n",
    "    # generating random unavailable plots\n",
    "    status[status == 1] = np.random.choice([available, unavailable],\n",
    "                                           size=status[status == 1].size, \n",
    "                                           p=[1-UNAVAILABLE_PCT,UNAVAILABLE_PCT])\n",
    "\n",
    "    \n",
    "    # create dataframe with list of towns, populating with initial town\n",
    "    towns = pd.DataFrame([[INITIAL_TOWN[0], INITIAL_TOWN[1]]], columns=['X', 'Y'])\n",
    "    status[(INITIAL_TOWN[1],INITIAL_TOWN[0])] = urban\n",
    "    \n",
    "    ### SETTING UP AGENTS ###\n",
    "    \n",
    "    # creating agents dataframe\n",
    "    agents = pd.DataFrame(index=range(0,HOUSEHOLDS), columns=['Current X', 'Current Y', 'Hometown X', 'Hometown Y', 'Hometown ID'], dtype='int16')\n",
    "    agents[['Current X', 'Current Y', 'Hometown X', 'Hometown Y', 'Hometown ID']] = [INITIAL_TOWN[0],INITIAL_TOWN[1],INITIAL_TOWN[0],INITIAL_TOWN[1],0]\n",
    "    agents['Current X'] = agents['Current X'].astype('int') \n",
    "    agents['Current Y'] = agents['Current Y'].astype('int') \n",
    "    agents['Hometown X'] = agents['Hometown X'].astype('int') \n",
    "    agents['Hometown Y'] = agents['Hometown Y'].astype('int') \n",
    "    agents['Hometown ID'] = agents['Hometown ID'].astype('int') \n",
    "    \n",
    "    # rellocate\n",
    "    tqdm_notebook().pandas(desc=\"rellocating agents\", leave=False)\n",
    "    agents.progress_apply(rellocate, axis=1)\n",
    "    \n",
    "    return True"
   ]
  },
  {
   "cell_type": "code",
   "execution_count": 92,
   "metadata": {},
   "outputs": [],
   "source": [
    "# This function rellocates agents to the nearest available plot\n",
    "# and updates the status of the plots\n",
    "\n",
    "def rellocate(agent):\n",
    "    global status, agents\n",
    "    \n",
    "    # find the nearest available plot\n",
    "    coords = find_nearest(agent[['Hometown Y', 'Hometown X']], available)\n",
    "    \n",
    "    # changing matrices conditions\n",
    "    # new plot\n",
    "    status[coords] = use\n",
    "    countdown[coords] = random.randint(FARMING_PERIOD - 1, FARMING_PERIOD + 2)\n",
    "    occupant[coords] = agent.name\n",
    "    \n",
    "    # old plot, change to recycling case using\n",
    "    current = (agents.loc[agent.name, 'Current Y'], agents.loc[agent.name, 'Current X'])\n",
    "    if status[current] == use:\n",
    "        status[current] = recycling\n",
    "        countdown[current] = random.randint(RECYCLING_PERIOD - 5, RECYCLING_PERIOD + 6)\n",
    "        occupant[current] = -1\n",
    "        \n",
    "    agents.loc[agent.name, 'Current X'] = coords[1]\n",
    "    agents.loc[agent.name, 'Current Y'] = coords[0]\n",
    "        \n",
    "    return True"
   ]
  },
  {
   "cell_type": "code",
   "execution_count": 42,
   "metadata": {},
   "outputs": [],
   "source": [
    "# This function finds the nearest plot in the matrix 'status' \n",
    "# that had value equals 'val', using Euclidean distance\n",
    "# pos (list) = [current Y, current X]\n",
    "# val (int) = 1\n",
    "\n",
    "def find_nearest(pos, val = available): \n",
    "    global status\n",
    "    \n",
    "    # TODO: to improve performance, we can restrict the area of this search\n",
    "    positions = np.where(status == val)\n",
    "    \n",
    "    y,x = positions #x = x value of status array, y = y value of status array, such that the status is available\n",
    "    \n",
    "    dx = abs(pos[1] - x)  # Horizontal distance\n",
    "    dy = abs(pos[0] - y)  # Vertical distance\n",
    "    \n",
    "    dist = np.sqrt(dx ** 2 + dy ** 2) # euclidean distance\n",
    "    min_pos = np.argmin(dist)  # This method will only return the first occurrence (!)\n",
    "    coords = y[min_pos], x[min_pos]\n",
    "    return coords"
   ]
  },
  {
   "cell_type": "code",
   "execution_count": 43,
   "metadata": {},
   "outputs": [
    {
     "data": {
      "text/plain": [
       "'    \\nold code for new towns\\n\\nif not HOMETOWN_GENERATED: #max of 1 hometown made per year\\n    horz_distance = (dpopulation.iloc[ID, 0] - dpopulation.iloc[ID, 2]).abs()\\n    vert_distance = (dpopulation.iloc[ID, 1] - dpopulation.iloc[ID, 3]).abs()\\n    distance = np.sqrt(horz_distance ** 2 + vert_distance ** 2)\\n    if distance > MAX_DISTANCE * 1.5:\\n        #the plot they are in should create a new town in the plot they are in. \\n        dpopulation.iloc[ID, 2] = coord[0] #update the hometown X \\n        dpopulation.iloc[ID, 3] = coord[1] #update the hometown Y\\n        towns.append(coord)\\n        HOMETOWN_GENERATED = True'"
      ]
     },
     "execution_count": 43,
     "metadata": {},
     "output_type": "execute_result"
    }
   ],
   "source": [
    "'''    \n",
    "old code for new towns\n",
    "\n",
    "if not HOMETOWN_GENERATED: #max of 1 hometown made per year\n",
    "    horz_distance = (dpopulation.iloc[ID, 0] - dpopulation.iloc[ID, 2]).abs()\n",
    "    vert_distance = (dpopulation.iloc[ID, 1] - dpopulation.iloc[ID, 3]).abs()\n",
    "    distance = np.sqrt(horz_distance ** 2 + vert_distance ** 2)\n",
    "    if distance > MAX_DISTANCE * 1.5:\n",
    "        #the plot they are in should create a new town in the plot they are in. \n",
    "        dpopulation.iloc[ID, 2] = coord[0] #update the hometown X \n",
    "        dpopulation.iloc[ID, 3] = coord[1] #update the hometown Y\n",
    "        towns.append(coord)\n",
    "        HOMETOWN_GENERATED = True'''"
   ]
  },
  {
   "cell_type": "code",
   "execution_count": 44,
   "metadata": {},
   "outputs": [],
   "source": [
    "def ticks(): #redo it with numpy controls\n",
    "    countdown[countdown != 0] -= 1 #subtracts a value of 1 from all nonzero countdown values"
   ]
  },
  {
   "cell_type": "code",
   "execution_count": 45,
   "metadata": {},
   "outputs": [],
   "source": [
    "def time_control():\n",
    "    cond1_idx = np.where((status == use) & (countdown <= 0))\n",
    "    cond2_idx = np.where((status == recycling) & (countdown <= 0))\n",
    "    \n",
    "    status[cond1_idx] = recycling\n",
    "    countdown[cond1_idx] = random.randint(RECYCLING_PERIOD - 5, RECYCLING_PERIOD + 6)\n",
    "    [rellocate(agents.iloc[occupant[i][j]]) for i,j in zip(*cond1_idx)] \n",
    "    occupant[cond1_idx] = 0\n",
    "    \n",
    "    status[cond2_idx] = available\n",
    "    countdown[cond2_idx] = -1"
   ]
  },
  {
   "cell_type": "code",
   "execution_count": 46,
   "metadata": {},
   "outputs": [],
   "source": [
    "def pop_update():\n",
    "    global agents, towns\n",
    "    \n",
    "    # calculate the number of new people based on existing increment plus population growth    \n",
    "    increment = pop_increment + (POP_GROWTH/100 * len(agents.index))\n",
    "    new_people = math.floor(increment)\n",
    "    \n",
    "    #create new people\n",
    "    start_id = len(agents.index)\n",
    "    \n",
    "    for x in range(start_id, start_id+new_people):\n",
    "        # randomly select hometown\n",
    "        hometown = towns.iloc[np.random.choice(towns.index)]\n",
    "        \n",
    "        #create new person nearest to the hometown\n",
    "        person = {'Current X': hometown['X'],\n",
    "                 'Current Y': hometown['Y'],\n",
    "                 'Hometown X': hometown['X'],\n",
    "                 'Hometown Y': hometown['Y'],\n",
    "                 'Hometown ID': hometown.name}\n",
    "        \n",
    "        agents = agents.append(person, ignore_index=True)\n",
    "        \n",
    "        #reallocate to nearest town\n",
    "        rellocate(agents.iloc[x])\n",
    "    \n",
    "    return increment - new_people\n",
    "    "
   ]
  },
  {
   "cell_type": "code",
   "execution_count": 47,
   "metadata": {},
   "outputs": [],
   "source": [
    "def get_furthest_distance():\n",
    "    global MAX_DISTANCE\n",
    "\n",
    "    horz_distances = (agents['Current X'] - agents['Hometown X']).abs()\n",
    "    vert_distances = (agents['Current Y'] - agents['Hometown Y']).abs()\n",
    "    distances = np.sqrt(horz_distances ** 2 + vert_distances ** 2).values.tolist()\n",
    "    \n",
    "    furthest = max(distances)\n",
    "    return furthest"
   ]
  },
  {
   "cell_type": "code",
   "execution_count": 48,
   "metadata": {},
   "outputs": [],
   "source": [
    "def generate_frame(year):\n",
    "    global status\n",
    "    \n",
    "    m,n = status.shape\n",
    "    arr = np.empty((m,n,3), dtype=object)\n",
    "    \n",
    "    ## progress_apply?\n",
    "    for j in tnrange(m, desc='generating image', leave=False):\n",
    "        for k in range(0, n):\n",
    "            arr[j,k] = colors[status[j,k]]\n",
    "    \n",
    "    \n",
    "    img = Image.fromarray(arr.astype('int8'), 'RGB')\n",
    "    \n",
    "    d = ImageDraw.Draw(img)\n",
    "    font = ImageFont.truetype(\"arial.ttf\", 54)\n",
    "    d.text((n-150, m-80), str(year), fill=(255,255,255), font=font)\n",
    "    \n",
    "    return img"
   ]
  },
  {
   "cell_type": "code",
   "execution_count": 49,
   "metadata": {},
   "outputs": [],
   "source": [
    "def create_gif(simulation):\n",
    "    frames = []\n",
    "    filenames = os.listdir(mydir)\n",
    "    filenames = [f.lower() for f in filenames]\n",
    "    for filename in tqdm_notebook(sorted(filenames), desc='creating gif'):\n",
    "        frames.append(imageio.imread(os.path.join(mydir, filename)))\n",
    "    imageio.mimsave(os.path.join('simulations', simulation + '.gif'), frames)\n",
    "    return True"
   ]
  },
  {
   "cell_type": "markdown",
   "metadata": {},
   "source": [
    "# Simulations"
   ]
  },
  {
   "cell_type": "markdown",
   "metadata": {},
   "source": [
    "## Simulation 1\n",
    "\n",
    "-- describe the simulation here"
   ]
  },
  {
   "cell_type": "code",
   "execution_count": 103,
   "metadata": {},
   "outputs": [],
   "source": [
    "# PARAMETERS OF THE SIMULATION\n",
    "NAME = 'solcha5'\n",
    "HOUSEHOLDS = 240\n",
    "\n",
    "# TODO\n",
    "POP_GROWTH = {\n",
    "    1590: 2.6,\n",
    "    1687: 1.1\n",
    "}\n",
    "\n",
    "POP_GROWTH = 0\n",
    "FARMING_PERIOD = 4\n",
    "RECYCLING_PERIOD = 30\n",
    "INITIAL_YEAR = 1590\n",
    "END_YEAR = 1765\n",
    "MAX_DISTANCE = 30\n",
    "UNAVAILABLE_PCT = 0\n",
    "INITIAL_TOWN = (550, 585)\n",
    "\n",
    "parameters = {\n",
    "    'name': NAME,\n",
    "    'households': HOUSEHOLDS,\n",
    "    'pop_growth': POP_GROWTH,\n",
    "    'farming_period': FARMING_PERIOD,\n",
    "    'recycling_period': RECYCLING_PERIOD,\n",
    "    'initial_year': INITIAL_YEAR,\n",
    "    'end_year': END_YEAR,\n",
    "    'max_distance': MAX_DISTANCE,\n",
    "    'unavailable_pct': UNAVAILABLE_PCT,\n",
    "    'initial_town': INITIAL_TOWN,\n",
    "    'obs': 'Simulation for SOLCHA paper. Normal population (240 households), with 100% of available land but no population growth. '\n",
    "}"
   ]
  },
  {
   "cell_type": "code",
   "execution_count": 121,
   "metadata": {},
   "outputs": [
    {
     "data": {
      "application/vnd.jupyter.widget-view+json": {
       "model_id": "e3c12dbc9979476bb18946225ff2312d",
       "version_major": 2,
       "version_minor": 0
      },
      "text/plain": [
       "HBox(children=(IntProgress(value=0, description='setting up plots', max=802, style=ProgressStyle(description_w…"
      ]
     },
     "metadata": {},
     "output_type": "display_data"
    },
    {
     "name": "stdout",
     "output_type": "stream",
     "text": [
      "\n"
     ]
    },
    {
     "ename": "KeyboardInterrupt",
     "evalue": "",
     "output_type": "error",
     "traceback": [
      "\u001b[1;31m---------------------------------------------------------------------------\u001b[0m",
      "\u001b[1;31mKeyboardInterrupt\u001b[0m                         Traceback (most recent call last)",
      "\u001b[1;32m<ipython-input-121-06f3a9e93c2b>\u001b[0m in \u001b[0;36m<module>\u001b[1;34m\u001b[0m\n\u001b[1;32m----> 1\u001b[1;33m \u001b[0msetup\u001b[0m\u001b[1;33m(\u001b[0m\u001b[1;33m)\u001b[0m\u001b[1;33m\u001b[0m\u001b[1;33m\u001b[0m\u001b[0m\n\u001b[0m\u001b[0;32m      2\u001b[0m \u001b[0mfurthest_distance_list\u001b[0m \u001b[1;33m=\u001b[0m \u001b[1;33m[\u001b[0m\u001b[1;33m]\u001b[0m\u001b[1;33m\u001b[0m\u001b[1;33m\u001b[0m\u001b[0m\n\u001b[0;32m      3\u001b[0m \u001b[0mcurrent_year\u001b[0m \u001b[1;33m=\u001b[0m \u001b[0mINITIAL_YEAR\u001b[0m\u001b[1;33m\u001b[0m\u001b[1;33m\u001b[0m\u001b[0m\n\u001b[0;32m      4\u001b[0m \u001b[1;33m\u001b[0m\u001b[0m\n\u001b[0;32m      5\u001b[0m \u001b[1;32mfor\u001b[0m \u001b[0mv\u001b[0m \u001b[1;32min\u001b[0m \u001b[0mtnrange\u001b[0m\u001b[1;33m(\u001b[0m\u001b[0mEND_YEAR\u001b[0m \u001b[1;33m-\u001b[0m \u001b[0mINITIAL_YEAR\u001b[0m\u001b[1;33m,\u001b[0m \u001b[0mdesc\u001b[0m\u001b[1;33m=\u001b[0m\u001b[1;34m'ticks'\u001b[0m\u001b[1;33m)\u001b[0m\u001b[1;33m:\u001b[0m\u001b[1;33m\u001b[0m\u001b[1;33m\u001b[0m\u001b[0m\n",
      "\u001b[1;32m<ipython-input-93-59261bf1e0ad>\u001b[0m in \u001b[0;36msetup\u001b[1;34m()\u001b[0m\n\u001b[0;32m     26\u001b[0m         \u001b[1;32mfor\u001b[0m \u001b[0mk\u001b[0m \u001b[1;32min\u001b[0m \u001b[0mrange\u001b[0m\u001b[1;33m(\u001b[0m\u001b[1;36m0\u001b[0m\u001b[1;33m,\u001b[0m \u001b[0mn\u001b[0m\u001b[1;33m)\u001b[0m\u001b[1;33m:\u001b[0m\u001b[1;33m\u001b[0m\u001b[1;33m\u001b[0m\u001b[0m\n\u001b[0;32m     27\u001b[0m             \u001b[1;32mif\u001b[0m \u001b[0mbackland_matrix\u001b[0m\u001b[1;33m[\u001b[0m\u001b[0mj\u001b[0m\u001b[1;33m]\u001b[0m\u001b[1;33m[\u001b[0m\u001b[0mk\u001b[0m\u001b[1;33m]\u001b[0m\u001b[1;33m[\u001b[0m\u001b[1;36m0\u001b[0m\u001b[1;33m]\u001b[0m \u001b[1;33m==\u001b[0m \u001b[1;36m0\u001b[0m\u001b[1;33m:\u001b[0m\u001b[1;33m\u001b[0m\u001b[1;33m\u001b[0m\u001b[0m\n\u001b[1;32m---> 28\u001b[1;33m                 \u001b[0mstatus\u001b[0m\u001b[1;33m[\u001b[0m\u001b[0mj\u001b[0m\u001b[1;33m]\u001b[0m\u001b[1;33m[\u001b[0m\u001b[0mk\u001b[0m\u001b[1;33m]\u001b[0m \u001b[1;33m=\u001b[0m \u001b[0munusable\u001b[0m\u001b[1;33m\u001b[0m\u001b[1;33m\u001b[0m\u001b[0m\n\u001b[0m\u001b[0;32m     29\u001b[0m             \u001b[1;32melse\u001b[0m\u001b[1;33m:\u001b[0m\u001b[1;33m\u001b[0m\u001b[1;33m\u001b[0m\u001b[0m\n\u001b[0;32m     30\u001b[0m                 \u001b[0mstatus\u001b[0m\u001b[1;33m[\u001b[0m\u001b[0mj\u001b[0m\u001b[1;33m]\u001b[0m\u001b[1;33m[\u001b[0m\u001b[0mk\u001b[0m\u001b[1;33m]\u001b[0m \u001b[1;33m=\u001b[0m \u001b[0mavailable\u001b[0m\u001b[1;33m\u001b[0m\u001b[1;33m\u001b[0m\u001b[0m\n",
      "\u001b[1;31mKeyboardInterrupt\u001b[0m: "
     ]
    }
   ],
   "source": [
    "setup()\n",
    "furthest_distance_list = []\n",
    "current_year = INITIAL_YEAR\n",
    "\n",
    "for v in tnrange(END_YEAR - INITIAL_YEAR, desc='ticks'):\n",
    "    # TODO: join functions\n",
    "    ticks()\n",
    "    time_control()\n",
    "    \n",
    "    #TODO: fix this\n",
    "    #if current_year == 1687:\n",
    "    #    POP_GROWTH = 1.1\n",
    "        \n",
    "    pop_increment = pop_update()\n",
    "    \n",
    "    # save frame\n",
    "    frame = generate_frame(current_year)\n",
    "    frame.save(mydir + '/' + str(current_year) + '.jpg')\n",
    "    \n",
    "    add = pd.Series([current_year, \n",
    "               len(agents), \n",
    "               len(towns), \n",
    "               len(np.where(status == use)[0]), \n",
    "               len(np.where(status == recycling)[0]), \n",
    "               round(get_furthest_distance())],\n",
    "              ['year', 'population', 'towns', 'using', 'recycling', 'max_distance'])\n",
    "    \n",
    "    \n",
    "    # TODO FOR REPORT\n",
    "    # ADD NEW PLOTS THAT ARE INCLUDED AND THOSE THAT WERE REUSED AFTER FALLOWING\n",
    "    # ADD AVERAGE DISTANCE TO HOMETOWN\n",
    "    # pickle and save every state?\n",
    "    \n",
    "    report = report.append([add])\n",
    "    current_year = current_year + 1\n",
    "    \n",
    "create_gif(simulation)\n",
    "\n",
    "## Saving data\n",
    "pickle.dump(parameters, open(os.path.join(mydir, \"parameters.p\" ), \"wb\"))\n",
    "report.to_pickle(os.path.join(mydir, 'report.p'))\n",
    "\n",
    "print('done')"
   ]
  },
  {
   "cell_type": "markdown",
   "metadata": {},
   "source": [
    "# Analysis"
   ]
  },
  {
   "cell_type": "code",
   "execution_count": 123,
   "metadata": {},
   "outputs": [
    {
     "data": {
      "text/plain": [
       "('G:\\\\My Drive\\\\academic\\\\doctorate\\\\dissertation\\\\gis\\\\spatial simulation\\\\gif_notebook [8-30-19]\\\\simulations\\\\solcha4_2019-10-28_14-40',\n",
       " 'G:\\\\My Drive\\\\academic\\\\doctorate\\\\dissertation\\\\gis\\\\spatial simulation\\\\gif_notebook [8-30-19]\\\\simulations\\\\solcha5_2019-10-28_15-43',\n",
       " 'G:\\\\My Drive\\\\academic\\\\doctorate\\\\dissertation\\\\gis\\\\spatial simulation\\\\gif_notebook [8-30-19]\\\\simulations\\\\solcha5_2019-10-28_16-22')"
      ]
     },
     "execution_count": 123,
     "metadata": {},
     "output_type": "execute_result"
    }
   ],
   "source": [
    "mydir1 = 'G:\\\\My Drive\\\\academic\\\\doctorate\\\\dissertation\\\\gis\\\\spatial simulation\\\\gif_notebook [8-30-19]\\\\simulations\\\\solcha4_2019-10-28_14-40'\n",
    "mydir2 = 'G:\\\\My Drive\\\\academic\\\\doctorate\\\\dissertation\\\\gis\\\\spatial simulation\\\\gif_notebook [8-30-19]\\\\simulations\\\\solcha5_2019-10-28_15-43'\n",
    "mydir3 = 'G:\\\\My Drive\\\\academic\\\\doctorate\\\\dissertation\\\\gis\\\\spatial simulation\\\\gif_notebook [8-30-19]\\\\simulations\\\\solcha5_2019-10-28_16-22'\n",
    "\n",
    "mydir1, mydir2,mydir3"
   ]
  },
  {
   "cell_type": "code",
   "execution_count": 129,
   "metadata": {},
   "outputs": [
    {
     "data": {
      "text/plain": [
       "({'name': 'solcha5',\n",
       "  'households': 240,\n",
       "  'pop_growth': 0,\n",
       "  'farming_period': 4,\n",
       "  'recycling_period': 30,\n",
       "  'initial_year': 1590,\n",
       "  'end_year': 1765,\n",
       "  'max_distance': 30,\n",
       "  'unavailable_pct': 0,\n",
       "  'initial_town': (550, 585),\n",
       "  'obs': 'Simulation for SOLCHA paper. Normal population (240 households), with 100% of available land but no population growth. '},\n",
       "     year population towns using recycling max_distance\n",
       " 0   1590        240     1   240         0            9\n",
       " 0   1591        240     1   240         0            9\n",
       " 0   1592        240     1   240        51            9\n",
       " 0   1593        240     1   240       116           11\n",
       " 0   1594        240     1   240       173           11\n",
       " 0   1595        240     1   240       250           13\n",
       " 0   1596        240     1   240       282           13\n",
       " 0   1597        240     1   240       322           14\n",
       " 0   1598        240     1   240       381           14\n",
       " 0   1599        240     1   240       434           15\n",
       " 0   1600        240     1   240       482           16\n",
       " 0   1601        240     1   240       543           16\n",
       " 0   1602        240     1   240       594           17\n",
       " 0   1603        240     1   240       646           17\n",
       " 0   1604        240     1   240       691           18\n",
       " 0   1605        240     1   240       753           18\n",
       " 0   1606        240     1   240       807           19\n",
       " 0   1607        240     1   240       856           19\n",
       " 0   1608        240     1   240       909           20\n",
       " 0   1609        240     1   240       956           20\n",
       " 0   1610        240     1   240      1014           21\n",
       " 0   1611        240     1   240      1067           21\n",
       " 0   1612        240     1   240      1122           22\n",
       " 0   1613        240     1   240      1179           22\n",
       " 0   1614        240     1   240      1231           22\n",
       " 0   1615        240     1   240      1283           23\n",
       " 0   1616        240     1   240      1327           23\n",
       " 0   1617        240     1   240      1388           24\n",
       " 0   1618        240     1   240      1447           24\n",
       " 0   1619        240     1   240      1493           24\n",
       " ..   ...        ...   ...   ...       ...          ...\n",
       " 0   1735        240     1   240      1497           23\n",
       " 0   1736        240     1   240      1495           23\n",
       " 0   1737        240     1   240      1544           23\n",
       " 0   1738        240     1   240      1592           23\n",
       " 0   1739        240     1   240      1643           23\n",
       " 0   1740        240     1   240      1652           24\n",
       " 0   1741        240     1   240      1597           24\n",
       " 0   1742        240     1   240      1550           24\n",
       " 0   1743        240     1   240      1605           24\n",
       " 0   1744        240     1   240      1596           24\n",
       " 0   1745        240     1   240      1650           24\n",
       " 0   1746        240     1   240      1646           24\n",
       " 0   1747        240     1   240      1634           24\n",
       " 0   1748        240     1   240      1492           24\n",
       " 0   1749        240     1   240      1554           24\n",
       " 0   1750        240     1   240      1608           24\n",
       " 0   1751        240     1   240      1603           25\n",
       " 0   1752        240     1   240      1594           25\n",
       " 0   1753        240     1   240      1585           25\n",
       " 0   1754        240     1   240      1651           25\n",
       " 0   1755        240     1   240      1542           26\n",
       " 0   1756        240     1   240      1596           26\n",
       " 0   1757        240     1   240      1653           26\n",
       " 0   1758        240     1   240      1645           26\n",
       " 0   1759        240     1   240      1652           26\n",
       " 0   1760        240     1   240      1654           26\n",
       " 0   1761        240     1   240      1636           26\n",
       " 0   1762        240     1   240      1696           26\n",
       " 0   1763        240     1   240      1545           26\n",
       " 0   1764        240     1   240      1525           26\n",
       " \n",
       " [175 rows x 6 columns])"
      ]
     },
     "execution_count": 129,
     "metadata": {},
     "output_type": "execute_result"
    }
   ],
   "source": [
    "parameters1 = pickle.load(open(os.path.join(mydir1, \"parameters.p\" ), \"rb\"))\n",
    "report1 = pd.read_pickle(os.path.join(mydir1, 'report.p'))\n",
    "\n",
    "parameters2 = pickle.load(open(os.path.join(mydir2, \"parameters.p\" ), \"rb\"))\n",
    "report2 = pd.read_pickle(os.path.join(mydir2, 'report.p'))\n",
    "\n",
    "parameters3 = pickle.load(open(os.path.join(mydir3, \"parameters.p\" ), \"rb\"))\n",
    "report3 = pd.read_pickle(os.path.join(mydir3, 'report.p'))\n",
    "\n",
    "parameters3, report3"
   ]
  },
  {
   "cell_type": "code",
   "execution_count": 120,
   "metadata": {},
   "outputs": [
    {
     "name": "stderr",
     "output_type": "stream",
     "text": [
      "C:\\Users\\Leo\\Anaconda3\\lib\\site-packages\\ipykernel_launcher.py:16: UserWarning: Matplotlib is currently using module://ipykernel.pylab.backend_inline, which is a non-GUI backend, so cannot show the figure.\n",
      "  app.launch_new_instance()\n"
     ]
    },
    {
     "data": {
      "text/plain": [
       "<Figure size 432x288 with 0 Axes>"
      ]
     },
     "metadata": {},
     "output_type": "display_data"
    },
    {
     "data": {
      "image/png": "[encoded data removed]",
      "text/plain": [
       "<Figure size 720x432 with 1 Axes>"
      ]
     },
     "metadata": {
      "needs_background": "light"
     },
     "output_type": "display_data"
    }
   ],
   "source": [
    "%matplotlib inline\n",
    "\n",
    "g1 = plt.figure(1)\n",
    "plt.figure(figsize=(10,6))\n",
    "plt.plot(report1['year'], report1['using'], label='using 1/2')\n",
    "plt.plot(report3['year'], report3['using'], label='using 3')\n",
    "plt.plot(report1['year'], report1['recycling'], label='recycling 1')\n",
    "plt.plot(report2['year'], report2['recycling'], label='recycling 2')\n",
    "plt.plot(report3['year'], report3['recycling'], label='recycling 3')\n",
    "plt.plot(report1['year'], report1['recycling']+report1['using'], label='deforestation 1')\n",
    "plt.plot(report1['year'], report2['recycling']+report2['using'], label='deforestation 2')\n",
    "plt.ylabel('# Plots (~7.2 ha/each)')\n",
    "#plt.title('Plot usage')\n",
    "plt.legend()\n",
    "#plt.grid()\n",
    "g1.show()"
   ]
  },
  {
   "cell_type": "code",
   "execution_count": 130,
   "metadata": {},
   "outputs": [
    {
     "name": "stderr",
     "output_type": "stream",
     "text": [
      "C:\\Users\\Leo\\Anaconda3\\lib\\site-packages\\ipykernel_launcher.py:10: UserWarning: Matplotlib is currently using module://ipykernel.pylab.backend_inline, which is a non-GUI backend, so cannot show the figure.\n",
      "  # Remove the CWD from sys.path while we load stuff.\n"
     ]
    },
    {
     "data": {
      "text/plain": [
       "<Figure size 432x288 with 0 Axes>"
      ]
     },
     "metadata": {},
     "output_type": "display_data"
    },
    {
     "data": {
      "image/png": "[encoded data removed]",
      "text/plain": [
       "<Figure size 576x432 with 1 Axes>"
      ]
     },
     "metadata": {
      "needs_background": "light"
     },
     "output_type": "display_data"
    }
   ],
   "source": [
    "%matplotlib inline\n",
    "\n",
    "g2 = plt.figure(2)\n",
    "plt.figure(figsize=(8,6))\n",
    "plt.plot(report1['year'], report1['max_distance'], label='model 1')\n",
    "plt.plot(report2['year'], report2['max_distance'], label='model 2')\n",
    "plt.plot(report3['year'], report3['max_distance'], label='model 3')\n",
    "plt.ylabel('Distance (*300m)')\n",
    "plt.legend()\n",
    "g2.show()"
   ]
  },
  {
   "cell_type": "code",
   "execution_count": 115,
   "metadata": {},
   "outputs": [
    {
     "data": {
      "text/plain": [
       "27"
      ]
     },
     "execution_count": 115,
     "metadata": {},
     "output_type": "execute_result"
    }
   ],
   "source": [
    "report3['max_distance'].max()"
   ]
  },
  {
   "cell_type": "code",
   "execution_count": 97,
   "metadata": {},
   "outputs": [
    {
     "data": {
      "text/plain": [
       "array([[26,  1, 23, 23,  1, 23, 34, 23, 23, 26],\n",
       "       [23, 34, 26, 26, 23, 34, 23, 34, 26,  1],\n",
       "       [23, 34, 26, 26, 23, 34, 23, 34, 23, 34],\n",
       "       [ 1, 34, 26,  1, 26, 23, 26, 23,  1, 26],\n",
       "       [26, 34,  1, 23, 34,  1, 23, 34, 26, 26],\n",
       "       [34, 34, 34, 23, 26, -6, 23, 23, 23, 34],\n",
       "       [23,  1, 26, 23, 23, 26, 26, 26, 26,  1],\n",
       "       [34, 23,  1, 23, 23,  1,  1, 23,  1,  1],\n",
       "       [26, 34, 26,  1, 26, 34,  1, 26, 23, 23],\n",
       "       [23, 26, 23, 23, 23, 26,  1, 23, 23, 23]], dtype=int16)"
      ]
     },
     "execution_count": 97,
     "metadata": {},
     "output_type": "execute_result"
    }
   ],
   "source": [
    "countdown[580:590, 545:555]"
   ]
  },
  {
   "cell_type": "markdown",
   "metadata": {},
   "source": [
    "## Performance test"
   ]
  },
  {
   "cell_type": "code",
   "execution_count": 65,
   "metadata": {},
   "outputs": [],
   "source": [
    "test = np.ones(shape=(1000,1000))\n",
    "x,y = test.shape\n",
    "\n",
    "def multiply(v):\n",
    "    return v * np.random.randint(5)\n",
    "\n",
    "f = lambda v: v * np.random.randint(5)\n",
    "vectorized = np.vectorize(f)"
   ]
  },
  {
   "cell_type": "code",
   "execution_count": 73,
   "metadata": {},
   "outputs": [
    {
     "name": "stdout",
     "output_type": "stream",
     "text": [
      "Wall time: 1.56 s\n"
     ]
    }
   ],
   "source": [
    "%%time\n",
    "for i in range(0,x):\n",
    "    for j in range(0,y):\n",
    "        test[i,j] = test[i,j] * np.random.randint(5)"
   ]
  },
  {
   "cell_type": "code",
   "execution_count": 78,
   "metadata": {},
   "outputs": [
    {
     "name": "stdout",
     "output_type": "stream",
     "text": [
      "Wall time: 1.15 s\n"
     ]
    }
   ],
   "source": [
    "%%time\n",
    "test = vectorized(test)"
   ]
  }
 ],
 "metadata": {
  "kernelspec": {
   "display_name": "Python 3",
   "language": "python",
   "name": "python3"
  },
  "language_info": {
   "codemirror_mode": {
    "name": "ipython",
    "version": 3
   },
   "file_extension": ".py",
   "mimetype": "text/x-python",
   "name": "python",
   "nbconvert_exporter": "python",
   "pygments_lexer": "ipython3",
   "version": "3.7.3"
  },
  "latex_envs": {
   "LaTeX_envs_menu_present": true,
   "autoclose": false,
   "autocomplete": true,
   "bibliofile": "biblio.bib",
   "cite_by": "apalike",
   "current_citInitial": 1,
   "eqLabelWithNumbers": true,
   "eqNumInitial": 1,
   "hotkeys": {
    "equation": "Ctrl-E",
    "itemize": "Ctrl-I"
   },
   "labels_anchors": false,
   "latex_user_defs": false,
   "report_style_numbering": false,
   "user_envs_cfg": false
  }
 },
 "nbformat": 4,
 "nbformat_minor": 2
}
