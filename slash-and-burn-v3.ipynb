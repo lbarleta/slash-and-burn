{
 "cells": [
  {
   "cell_type": "markdown",
   "metadata": {},
   "source": [
    "# Modeling Slash-and-burn Agriculture in Colonial Brazil\n",
    "\n",
    "*Leonardo Barleta, Evan Yong-Seok Kim, Isabela Barros David Rodrigues*<br>\n",
    "Center for Spatial and Textual Analysis (CESTA), Stanford University"
   ]
  },
  {
   "cell_type": "markdown",
   "metadata": {},
   "source": [
    "This notebook uses agent-based modeling to simulate slash-and-burn agriculture in São Paulo, Brazil, from the late 16th to the 18th centuries. Slash-and-burn agriculture -- also known as itinerant, shifiting, swidden, or (in Brazil) *coivara* and *roça de toco* -- is a method of farming in which farmers burn tracts of forest to clear and fertilize the terrain. Because the fertility of the soil lasts only a few seasons, farmers have to move periodically in search of new areas with lush vegetation, creating a cycle of mobility and deforestation. This simulation serves to examine the adoption of slash-and-burn techniques by Portuguese colonists, assessing the scale of environmental impact produced by the colonization and the patterns of geographic mobility created by this technique."
   ]
  },
  {
   "cell_type": "markdown",
   "metadata": {},
   "source": [
    "Current version: 3.0.0 (29/10/2019)\n",
    "\n",
    "Previous milestones:\n",
    "\n",
    "- Oct 2019 - Code refactored and first results were generated for analysis\n",
    "- Summer 2019 - Python+Jupyter notebook completely revamped by Evan, generating version 3\n",
    "- Spring 2019 - Version 2.x adapted previous model to Python+Jupyter \n",
    "- Winter 2019 - Version 1.x was creasted by Bela and Leo using NetLogo  "
   ]
  },
  {
   "cell_type": "markdown",
   "metadata": {},
   "source": [
    "# Setup"
   ]
  },
  {
   "cell_type": "code",
   "execution_count": null,
   "metadata": {},
   "outputs": [],
   "source": [
    "pip install tqdm Pillow matplotlib numpy pandas imageio"
   ]
  },
  {
   "cell_type": "code",
   "execution_count": null,
   "metadata": {},
   "outputs": [],
   "source": [
    "from tqdm import tqdm_notebook, tnrange\n",
    "from PIL import Image, ImageDraw, ImageFont\n",
    "from matplotlib import pyplot as plt\n",
    "import numpy as np\n",
    "import pandas as pd\n",
    "import random, imageio, os, datetime, math, sys, pickle"
   ]
  },
  {
   "cell_type": "code",
   "execution_count": null,
   "metadata": {},
   "outputs": [],
   "source": [
    "# PARAMETERS OF THE SIMULATION\n",
    "\n",
    "# name of the simulation\n",
    "NAME = 'testing'\n",
    "\n",
    "# initial number of households\n",
    "HOUSEHOLDS = 240\n",
    "\n",
    "# annual rate of population growth\n",
    "POP_GROWTH = 2.6 #.5%/year -- rate of growth\n",
    "\n",
    "# number of years  that one can cultivate a plot of land\n",
    "FARMING_PERIOD = 4\n",
    "\n",
    "# number of years that a plot of land needs to recycle\n",
    "RECYCLING_PERIOD = 30\n",
    "\n",
    "# initial and end year\n",
    "INITIAL_YEAR = 1690\n",
    "END_YEAR = 1798\n",
    "\n",
    "# search radius\n",
    "MAX_DISTANCE = 30\n",
    "\n",
    "# percentage of unavailable land\n",
    "UNAVAILABLE_PCT = 0.5\n",
    "\n",
    "# initial town (Y,X)\n",
    "INITIAL_TOWN = (550, 585)"
   ]
  },
  {
   "cell_type": "code",
   "execution_count": null,
   "metadata": {},
   "outputs": [],
   "source": [
    "# Plots\n",
    "available = 1 #green\n",
    "unusable = 2 #black\n",
    "use = 3 #redish orange\n",
    "recycling = 4 #brown\n",
    "urban = 5 # yellow\n",
    "unavailable = 6 #grey\n",
    "\n",
    "colors = {\n",
    "    available: (236, 255, 179),\n",
    "    unusable: (50,50,50),\n",
    "    use: (255,110,50),\n",
    "    recycling: (125,90,30),\n",
    "    urban: (255,255,0),\n",
    "    unavailable: (100,100,100),\n",
    "}\n",
    "\n",
    "# other variables\n",
    "pop_increment = 0.0\n",
    "new_hometown = False"
   ]
  },
  {
   "cell_type": "markdown",
   "metadata": {},
   "source": [
    "# Functions"
   ]
  },
  {
   "cell_type": "code",
   "execution_count": null,
   "metadata": {},
   "outputs": [],
   "source": [
    "def setup():\n",
    "    global status, countdown, occupant, agents, towns, mydir, report, simulation\n",
    "    \n",
    "    ### ENVIRONMENT ###\n",
    "    simulation = NAME +'_'+ datetime.datetime.now().strftime('%Y-%m-%d_%H-%M')\n",
    "    mydir = os.path.join(os.getcwd(), 'simulations', simulation)\n",
    "    os.makedirs(mydir)\n",
    "    \n",
    "    report = pd.DataFrame(columns=['year', 'population', 'towns', 'using', 'recycling', 'max_distance'])\n",
    "    \n",
    "    ### SETTING UP SPACE ###\n",
    "    \n",
    "    # loading basemap\n",
    "    backland = Image.open(\"available_land2.jpg\").convert('RGB')\n",
    "    backland_matrix = np.array(backland)\n",
    "    n,m = backland.size #n - width, m - height, use m for rows, n for columns\n",
    "        \n",
    "    # creating basic matrices\n",
    "    status = np.zeros((m,n), dtype=np.int16) # \n",
    "    countdown = np.negative(np.ones((m,n), dtype=np.int16)) #starts from 4, then counts down\n",
    "    occupant = np.negative(np.ones((m,n), dtype=np.int16)) #starts from 4, then counts down\n",
    "    #occupant = np.zeros((m,n), dtype=np.int16) #has ID\n",
    "    \n",
    "    # TODO: replace for progress_apply\n",
    "    for j in tnrange(m, desc='setting up plots'):\n",
    "        for k in range(0, n):\n",
    "            if backland_matrix[j][k][0] == 0:\n",
    "                status[j][k] = unusable    \n",
    "            else:\n",
    "                status[j][k] = available\n",
    "   \n",
    "    \n",
    "    \n",
    "    # generating random unavailable plots\n",
    "    status[status == 1] = np.random.choice([available, unavailable],\n",
    "                                           size=status[status == 1].size, \n",
    "                                           p=[1-UNAVAILABLE_PCT,UNAVAILABLE_PCT])\n",
    "\n",
    "    \n",
    "    # create dataframe with list of towns, populating with initial town\n",
    "    towns = pd.DataFrame([[INITIAL_TOWN[0], INITIAL_TOWN[1]]], columns=['X', 'Y'])\n",
    "    status[(INITIAL_TOWN[1],INITIAL_TOWN[0])] = urban\n",
    "    \n",
    "    ### SETTING UP AGENTS ###\n",
    "    \n",
    "    # creating agents dataframe\n",
    "    agents = pd.DataFrame(index=range(0,HOUSEHOLDS), columns=['Current X', 'Current Y', 'Hometown X', 'Hometown Y', 'Hometown ID'], dtype='int16')\n",
    "    agents[['Current X', 'Current Y', 'Hometown X', 'Hometown Y', 'Hometown ID']] = [INITIAL_TOWN[0],INITIAL_TOWN[1],INITIAL_TOWN[0],INITIAL_TOWN[1],0]\n",
    "    agents['Current X'] = agents['Current X'].astype('int') \n",
    "    agents['Current Y'] = agents['Current Y'].astype('int') \n",
    "    agents['Hometown X'] = agents['Hometown X'].astype('int') \n",
    "    agents['Hometown Y'] = agents['Hometown Y'].astype('int') \n",
    "    agents['Hometown ID'] = agents['Hometown ID'].astype('int') \n",
    "    \n",
    "    # rellocate\n",
    "    tqdm_notebook().pandas(desc=\"rellocating agents\", leave=False)\n",
    "    agents.progress_apply(rellocate, axis=1)\n",
    "    \n",
    "    return True"
   ]
  },
  {
   "cell_type": "code",
   "execution_count": null,
   "metadata": {},
   "outputs": [],
   "source": [
    "# This function rellocates agents to the nearest available plot\n",
    "# and updates the status of the plots\n",
    "\n",
    "def rellocate(agent):\n",
    "    global status, agents\n",
    "    \n",
    "    # find the nearest available plot\n",
    "    coords = find_nearest(agent[['Hometown Y', 'Hometown X']], available)\n",
    "    \n",
    "    # changing matrices conditions\n",
    "    # new plot\n",
    "    status[coords] = use\n",
    "    countdown[coords] = random.randint(FARMING_PERIOD - 1, FARMING_PERIOD + 2)\n",
    "    occupant[coords] = agent.name\n",
    "    \n",
    "    # old plot, change to recycling case using\n",
    "    current = (agents.loc[agent.name, 'Current Y'], agents.loc[agent.name, 'Current X'])\n",
    "    if status[current] == use:\n",
    "        status[current] = recycling\n",
    "        countdown[current] = random.randint(RECYCLING_PERIOD - 5, RECYCLING_PERIOD + 6)\n",
    "        occupant[current] = -1\n",
    "        \n",
    "    agents.loc[agent.name, 'Current X'] = coords[1]\n",
    "    agents.loc[agent.name, 'Current Y'] = coords[0]\n",
    "        \n",
    "    return True"
   ]
  },
  {
   "cell_type": "code",
   "execution_count": null,
   "metadata": {},
   "outputs": [],
   "source": [
    "# This function finds the nearest plot in the matrix 'status' \n",
    "# that had value equals 'val', using Euclidean distance\n",
    "# pos (list) = [current Y, current X]\n",
    "# val (int) = 1\n",
    "\n",
    "def find_nearest(pos, val = available): \n",
    "    global status\n",
    "    \n",
    "    # TODO: to improve performance, we can restrict the area of this search\n",
    "    positions = np.where(status == val)\n",
    "    \n",
    "    y,x = positions #x = x value of status array, y = y value of status array, such that the status is available\n",
    "    \n",
    "    dx = abs(pos[1] - x)  # Horizontal distance\n",
    "    dy = abs(pos[0] - y)  # Vertical distance\n",
    "    \n",
    "    dist = np.sqrt(dx ** 2 + dy ** 2) # euclidean distance\n",
    "    min_pos = np.argmin(dist)  # This method will only return the first occurrence (!)\n",
    "    coords = y[min_pos], x[min_pos]\n",
    "    return coords"
   ]
  },
  {
   "cell_type": "code",
   "execution_count": null,
   "metadata": {},
   "outputs": [],
   "source": [
    "'''    \n",
    "old code for new towns\n",
    "\n",
    "if not HOMETOWN_GENERATED: #max of 1 hometown made per year\n",
    "    horz_distance = (dpopulation.iloc[ID, 0] - dpopulation.iloc[ID, 2]).abs()\n",
    "    vert_distance = (dpopulation.iloc[ID, 1] - dpopulation.iloc[ID, 3]).abs()\n",
    "    distance = np.sqrt(horz_distance ** 2 + vert_distance ** 2)\n",
    "    if distance > MAX_DISTANCE * 1.5:\n",
    "        #the plot they are in should create a new town in the plot they are in. \n",
    "        dpopulation.iloc[ID, 2] = coord[0] #update the hometown X \n",
    "        dpopulation.iloc[ID, 3] = coord[1] #update the hometown Y\n",
    "        towns.append(coord)\n",
    "        HOMETOWN_GENERATED = True'''\n",
    "\n",
    "NAME"
   ]
  },
  {
   "cell_type": "code",
   "execution_count": null,
   "metadata": {},
   "outputs": [],
   "source": [
    "def ticks(): #redo it with numpy controls\n",
    "    countdown[countdown != 0] -= 1 #subtracts a value of 1 from all nonzero countdown values"
   ]
  },
  {
   "cell_type": "code",
   "execution_count": null,
   "metadata": {},
   "outputs": [],
   "source": [
    "def time_control():\n",
    "    cond1_idx = np.where((status == use) & (countdown <= 0))\n",
    "    cond2_idx = np.where((status == recycling) & (countdown <= 0))\n",
    "    \n",
    "    status[cond1_idx] = recycling\n",
    "    countdown[cond1_idx] = random.randint(RECYCLING_PERIOD - 5, RECYCLING_PERIOD + 6)\n",
    "    [rellocate(agents.iloc[occupant[i][j]]) for i,j in zip(*cond1_idx)] \n",
    "    occupant[cond1_idx] = 0\n",
    "    \n",
    "    status[cond2_idx] = available\n",
    "    countdown[cond2_idx] = -1"
   ]
  },
  {
   "cell_type": "code",
   "execution_count": null,
   "metadata": {},
   "outputs": [],
   "source": [
    "def pop_update():\n",
    "    global agents, towns\n",
    "    \n",
    "    # calculate the number of new people based on existing increment plus population growth    \n",
    "    increment = pop_increment + (POP_GROWTH/100 * len(agents.index))\n",
    "    new_people = math.floor(increment)\n",
    "    \n",
    "    #create new people\n",
    "    start_id = len(agents.index)\n",
    "    \n",
    "    for x in range(start_id, start_id+new_people):\n",
    "        # randomly select hometown\n",
    "        hometown = towns.iloc[np.random.choice(towns.index)]\n",
    "        \n",
    "        #create new person nearest to the hometown\n",
    "        person = {'Current X': hometown['X'],\n",
    "                 'Current Y': hometown['Y'],\n",
    "                 'Hometown X': hometown['X'],\n",
    "                 'Hometown Y': hometown['Y'],\n",
    "                 'Hometown ID': hometown.name}\n",
    "        \n",
    "        agents = agents.append(person, ignore_index=True)\n",
    "        \n",
    "        #reallocate to nearest town\n",
    "        rellocate(agents.iloc[x])\n",
    "    \n",
    "    return increment - new_people\n",
    "    "
   ]
  },
  {
   "cell_type": "code",
   "execution_count": null,
   "metadata": {},
   "outputs": [],
   "source": [
    "def get_furthest_distance():\n",
    "    global MAX_DISTANCE\n",
    "\n",
    "    horz_distances = (agents['Current X'] - agents['Hometown X']).abs()\n",
    "    vert_distances = (agents['Current Y'] - agents['Hometown Y']).abs()\n",
    "    distances = np.sqrt(horz_distances ** 2 + vert_distances ** 2).values.tolist()\n",
    "    \n",
    "    furthest = max(distances)\n",
    "    return furthest"
   ]
  },
  {
   "cell_type": "code",
   "execution_count": null,
   "metadata": {},
   "outputs": [],
   "source": [
    "def generate_frame(year):\n",
    "    global status\n",
    "    \n",
    "    m,n = status.shape\n",
    "    arr = np.empty((m,n,3), dtype=object)\n",
    "    \n",
    "    ## progress_apply?\n",
    "    for j in tnrange(m, desc='generating image', leave=False):\n",
    "        for k in range(0, n):\n",
    "            arr[j,k] = colors[status[j,k]]\n",
    "    \n",
    "    \n",
    "    img = Image.fromarray(arr.astype('int8'), 'RGB')\n",
    "    \n",
    "    d = ImageDraw.Draw(img)\n",
    "    font = ImageFont.truetype(\"arial.ttf\", 54)\n",
    "    d.text((n-150, m-80), str(year), fill=(255,255,255), font=font)\n",
    "    \n",
    "    return img"
   ]
  },
  {
   "cell_type": "code",
   "execution_count": null,
   "metadata": {},
   "outputs": [],
   "source": [
    "def create_gif(simulation):\n",
    "    frames = []\n",
    "    filenames = os.listdir(mydir)\n",
    "    filenames = [f.lower() for f in filenames]\n",
    "    for filename in tqdm_notebook(sorted(filenames), desc='creating gif'):\n",
    "        frames.append(imageio.imread(os.path.join(mydir, filename)))\n",
    "    imageio.mimsave(os.path.join('simulations', simulation + '.gif'), frames)\n",
    "    return True"
   ]
  },
  {
   "cell_type": "markdown",
   "metadata": {},
   "source": [
    "# Simulations"
   ]
  },
  {
   "cell_type": "markdown",
   "metadata": {},
   "source": [
    "## Simulation 1\n",
    "\n",
    "-- describe the simulation here"
   ]
  },
  {
   "cell_type": "code",
   "execution_count": null,
   "metadata": {},
   "outputs": [],
   "source": [
    "# PARAMETERS OF THE SIMULATION\n",
    "NAME = 'solcha5'\n",
    "HOUSEHOLDS = 240\n",
    "\n",
    "# TODO\n",
    "POP_GROWTH = {\n",
    "    1590: 2.6,\n",
    "    1687: 1.1\n",
    "}\n",
    "\n",
    "POP_GROWTH = 0\n",
    "FARMING_PERIOD = 4\n",
    "RECYCLING_PERIOD = 30\n",
    "INITIAL_YEAR = 1590\n",
    "END_YEAR = 1765\n",
    "MAX_DISTANCE = 30\n",
    "UNAVAILABLE_PCT = 0\n",
    "INITIAL_TOWN = (550, 585)\n",
    "\n",
    "parameters = {\n",
    "    'name': NAME,\n",
    "    'households': HOUSEHOLDS,\n",
    "    'pop_growth': POP_GROWTH,\n",
    "    'farming_period': FARMING_PERIOD,\n",
    "    'recycling_period': RECYCLING_PERIOD,\n",
    "    'initial_year': INITIAL_YEAR,\n",
    "    'end_year': END_YEAR,\n",
    "    'max_distance': MAX_DISTANCE,\n",
    "    'unavailable_pct': UNAVAILABLE_PCT,\n",
    "    'initial_town': INITIAL_TOWN,\n",
    "    'obs': 'Simulation for SOLCHA paper. Normal population (240 households), with 100% of available land but no population growth. '\n",
    "}"
   ]
  },
  {
   "cell_type": "code",
   "execution_count": null,
   "metadata": {},
   "outputs": [],
   "source": [
    "setup()\n",
    "furthest_distance_list = []\n",
    "current_year = INITIAL_YEAR\n",
    "\n",
    "for v in tnrange(END_YEAR - INITIAL_YEAR, desc='ticks'):\n",
    "    # TODO: join functions\n",
    "    ticks()\n",
    "    time_control()\n",
    "    \n",
    "    #TODO: fix this\n",
    "    #if current_year == 1687:\n",
    "    #    POP_GROWTH = 1.1\n",
    "        \n",
    "    pop_increment = pop_update()\n",
    "    \n",
    "    # save frame\n",
    "    frame = generate_frame(current_year)\n",
    "    frame.save(mydir + '/' + str(current_year) + '.jpg')\n",
    "    \n",
    "    add = pd.Series([current_year, \n",
    "               len(agents), \n",
    "               len(towns), \n",
    "               len(np.where(status == use)[0]), \n",
    "               len(np.where(status == recycling)[0]), \n",
    "               round(get_furthest_distance())],\n",
    "              ['year', 'population', 'towns', 'using', 'recycling', 'max_distance'])\n",
    "    \n",
    "    \n",
    "    # TODO FOR REPORT\n",
    "    # ADD NEW PLOTS THAT ARE INCLUDED AND THOSE THAT WERE REUSED AFTER FALLOWING\n",
    "    # ADD AVERAGE DISTANCE TO HOMETOWN\n",
    "    # pickle and save every state?\n",
    "    \n",
    "    report = report.append([add])\n",
    "    current_year = current_year + 1\n",
    "    \n",
    "create_gif(simulation)\n",
    "\n",
    "## Saving data\n",
    "pickle.dump(parameters, open(os.path.join(mydir, \"parameters.p\" ), \"wb\"))\n",
    "report.to_pickle(os.path.join(mydir, 'report.p'))\n",
    "\n",
    "print('done')"
   ]
  },
  {
   "cell_type": "markdown",
   "metadata": {},
   "source": [
    "# Analysis"
   ]
  },
  {
   "cell_type": "code",
   "execution_count": null,
   "metadata": {},
   "outputs": [],
   "source": [
    "mydir1 = 'G:\\\\My Drive\\\\academic\\\\doctorate\\\\dissertation\\\\gis\\\\spatial simulation\\\\gif_notebook [8-30-19]\\\\simulations\\\\solcha4_2019-10-28_14-40'\n",
    "mydir2 = 'G:\\\\My Drive\\\\academic\\\\doctorate\\\\dissertation\\\\gis\\\\spatial simulation\\\\gif_notebook [8-30-19]\\\\simulations\\\\solcha5_2019-10-28_15-43'\n",
    "mydir3 = 'G:\\\\My Drive\\\\academic\\\\doctorate\\\\dissertation\\\\gis\\\\spatial simulation\\\\gif_notebook [8-30-19]\\\\simulations\\\\solcha5_2019-10-28_16-22'\n",
    "\n",
    "mydir1, mydir2,mydir3"
   ]
  },
  {
   "cell_type": "code",
   "execution_count": null,
   "metadata": {},
   "outputs": [],
   "source": [
    "parameters1 = pickle.load(open(os.path.join(mydir1, \"parameters.p\" ), \"rb\"))\n",
    "report1 = pd.read_pickle(os.path.join(mydir1, 'report.p'))\n",
    "\n",
    "parameters2 = pickle.load(open(os.path.join(mydir2, \"parameters.p\" ), \"rb\"))\n",
    "report2 = pd.read_pickle(os.path.join(mydir2, 'report.p'))\n",
    "\n",
    "parameters3 = pickle.load(open(os.path.join(mydir3, \"parameters.p\" ), \"rb\"))\n",
    "report3 = pd.read_pickle(os.path.join(mydir3, 'report.p'))\n",
    "\n",
    "parameters3, report3"
   ]
  },
  {
   "cell_type": "code",
   "execution_count": null,
   "metadata": {},
   "outputs": [],
   "source": [
    "%matplotlib inline\n",
    "\n",
    "g1 = plt.figure(1)\n",
    "plt.figure(figsize=(10,6))\n",
    "plt.plot(report1['year'], report1['using'], label='using 1/2')\n",
    "plt.plot(report3['year'], report3['using'], label='using 3')\n",
    "plt.plot(report1['year'], report1['recycling'], label='recycling 1')\n",
    "plt.plot(report2['year'], report2['recycling'], label='recycling 2')\n",
    "plt.plot(report3['year'], report3['recycling'], label='recycling 3')\n",
    "plt.plot(report1['year'], report1['recycling']+report1['using'], label='deforestation 1')\n",
    "plt.plot(report1['year'], report2['recycling']+report2['using'], label='deforestation 2')\n",
    "plt.ylabel('# Plots (~7.2 ha/each)')\n",
    "#plt.title('Plot usage')\n",
    "plt.legend()\n",
    "#plt.grid()\n",
    "g1.show()"
   ]
  },
  {
   "cell_type": "code",
   "execution_count": null,
   "metadata": {},
   "outputs": [],
   "source": [
    "%matplotlib inline\n",
    "\n",
    "g2 = plt.figure(2)\n",
    "plt.figure(figsize=(8,6))\n",
    "plt.plot(report1['year'], report1['max_distance'], label='model 1')\n",
    "plt.plot(report2['year'], report2['max_distance'], label='model 2')\n",
    "plt.plot(report3['year'], report3['max_distance'], label='model 3')\n",
    "plt.ylabel('Distance (*300m)')\n",
    "plt.legend()\n",
    "g2.show()"
   ]
  },
  {
   "cell_type": "code",
   "execution_count": null,
   "metadata": {},
   "outputs": [],
   "source": [
    "report3['max_distance'].max()"
   ]
  },
  {
   "cell_type": "code",
   "execution_count": null,
   "metadata": {},
   "outputs": [],
   "source": [
    "countdown[580:590, 545:555]"
   ]
  },
  {
   "cell_type": "markdown",
   "metadata": {},
   "source": [
    "## Performance test"
   ]
  },
  {
   "cell_type": "code",
   "execution_count": null,
   "metadata": {},
   "outputs": [],
   "source": [
    "test = np.ones(shape=(1000,1000))\n",
    "x,y = test.shape\n",
    "\n",
    "def multiply(v):\n",
    "    return v * np.random.randint(5)\n",
    "\n",
    "f = lambda v: v * np.random.randint(5)\n",
    "vectorized = np.vectorize(f)"
   ]
  },
  {
   "cell_type": "code",
   "execution_count": null,
   "metadata": {},
   "outputs": [],
   "source": [
    "%%time\n",
    "for i in range(0,x):\n",
    "    for j in range(0,y):\n",
    "        test[i,j] = test[i,j] * np.random.randint(5)"
   ]
  },
  {
   "cell_type": "code",
   "execution_count": null,
   "metadata": {},
   "outputs": [],
   "source": [
    "%%time\n",
    "test = vectorized(test)"
   ]
  }
 ],
 "metadata": {
  "kernelspec": {
   "display_name": "Python 3",
   "language": "python",
   "name": "python3"
  },
  "language_info": {
   "codemirror_mode": {
    "name": "ipython",
    "version": 3
   },
   "file_extension": ".py",
   "mimetype": "text/x-python",
   "name": "python",
   "nbconvert_exporter": "python",
   "pygments_lexer": "ipython3",
   "version": "3.7.3"
  },
  "latex_envs": {
   "LaTeX_envs_menu_present": true,
   "autoclose": false,
   "autocomplete": true,
   "bibliofile": "biblio.bib",
   "cite_by": "apalike",
   "current_citInitial": 1,
   "eqLabelWithNumbers": true,
   "eqNumInitial": 1,
   "hotkeys": {
    "equation": "Ctrl-E",
    "itemize": "Ctrl-I"
   },
   "labels_anchors": false,
   "latex_user_defs": false,
   "report_style_numbering": false,
   "user_envs_cfg": false
  }
 },
 "nbformat": 4,
 "nbformat_minor": 2
}
